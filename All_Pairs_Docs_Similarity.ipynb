{
  "nbformat": 4,
  "nbformat_minor": 0,
  "metadata": {
    "colab": {
      "provenance": []
    },
    "kernelspec": {
      "name": "python3",
      "display_name": "Python 3"
    },
    "language_info": {
      "name": "python"
    }
  },
  "cells": [
    {
      "cell_type": "code",
      "execution_count": null,
      "metadata": {
        "id": "uFj-EEz5MfvT"
      },
      "outputs": [],
      "source": [
        "!pip install beir"
      ]
    },
    {
      "cell_type": "code",
      "source": [
        "from typing import Dict, List, Tuple\n",
        "from __future__ import annotations\n",
        "\n",
        "from beir import util\n",
        "from beir.datasets.data_loader import GenericDataLoader\n",
        "\n",
        "import pathlib, os, string\n",
        "from tqdm.notebook import tqdm\n",
        "\n",
        "import spacy\n",
        "\n",
        "import time\n",
        "import numpy as np\n",
        "import pandas as pd\n",
        "from concurrent.futures import ProcessPoolExecutor, ThreadPoolExecutor, as_completed\n",
        "import multiprocessing as mp\n",
        "import string\n",
        "import math\n",
        "import collections"
      ],
      "metadata": {
        "id": "w2egH-wTRCrG"
      },
      "execution_count": null,
      "outputs": []
    },
    {
      "cell_type": "markdown",
      "source": [
        "# Available Datasets\n",
        "\n",
        "| Dataset   | Website| BEIR-Name | Domain     | Relevancy| Queries  | Documents | Avg. Docs/Q | Download | \n",
        "| -------- | -----| ---------| ----------- | ---------| ---------| --------- | ------| ------------| \n",
        "| MSMARCO    | [``Homepage``](https://microsoft.github.io/msmarco/)| ``msmarco`` | Misc.       |  Binary  |  6,980   |  8.84M     |    1.1 | Yes |  \n",
        "| TREC-COVID |  [``Homepage``](https://ir.nist.gov/covidSubmit/index.html)| ``trec-covid``| Bio-Medical |  3-level|50|  171K| 493.5 | Yes | \n",
        "| NFCorpus   | [``Homepage``](https://www.cl.uni-heidelberg.de/statnlpgroup/nfcorpus/) | ``nfcorpus``  | Bio-Medical |  3-level |  323     |  3.6K     |  38.2 | Yes |\n",
        "| BioASQ     | [``Homepage``](http://bioasq.org) | ``bioasq``| Bio-Medical |  Binary  |   500    |  14.91M    |  8.05 | No | \n",
        "| NQ         | [``Homepage``](https://ai.google.com/research/NaturalQuestions) | ``nq``| Wikipedia   |  Binary  |  3,452   |  2.68M  |  1.2 | Yes | \n",
        "| HotpotQA   | [``Homepage``](https://hotpotqa.github.io) | ``hotpotqa``| Wikipedia   |  Binary  |  7,405   |  5.23M  |  2.0 | Yes |\n",
        "| FiQA-2018  | [``Homepage``](https://sites.google.com/view/fiqa/) | ``fiqa``    | Finance     |  Binary  |  648     |  57K    |  2.6 | Yes | \n",
        "| Signal-1M (RT) | [``Homepage``](https://research.signal-ai.com/datasets/signal1m-tweetir.html)| ``signal1m`` | Twitter     |  3-level  |   97   |  2.86M  |  19.6 | No |\n",
        "| TREC-NEWS  | [``Homepage``](https://trec.nist.gov/data/news2019.html) | ``trec-news``    | News     |  5-level  |   57    |  595K    |  19.6 | No |\n",
        "| ArguAna    | [``Homepage``](http://argumentation.bplaced.net/arguana/data) | ``arguana`` | Misc.       |  Binary  |  1,406     |  8.67K    |  1.0 | Yes |\n",
        "| Touche-2020| [``Homepage``](https://webis.de/events/touche-20/shared-task-1.html) | ``webis-touche2020``| Misc.       |  6-level  |  49     |  382K    |  49.2 |  Yes |\n",
        "| CQADupstack| [``Homepage``](http://nlp.cis.unimelb.edu.au/resources/cqadupstack/) | ``cqadupstack``| StackEx.      |  Binary  |  13,145 |  457K  |  1.4 |  Yes |\n",
        "| Quora| [``Homepage``](https://www.quora.com/q/quoradata/First-Quora-Dataset-Release-Question-Pairs) | ``quora``| Quora  | Binary  |  10,000     |  523K    |  1.6 |  Yes | \n",
        "| DBPedia | [``Homepage``](https://github.com/iai-group/DBpedia-Entity/) | ``dbpedia-entity``| Wikipedia |  3-level  |  400    |  4.63M    |  38.2 |  Yes | \n",
        "| SCIDOCS| [``Homepage``](https://allenai.org/data/scidocs) | ``scidocs``| Scientific |  Binary  |  1,000     |  25K    |  4.9 |  Yes | \n",
        "| FEVER| [``Homepage``](http://fever.ai) | ``fever``| Wikipedia     |  Binary  |  6,666     |  5.42M    |  1.2|  Yes | \n",
        "| Climate-FEVER| [``Homepage``](http://climatefever.ai) | ``climate-fever``| Wikipedia |  Binary  |  1,535     |  5.42M |  3.0 |  Yes |\n",
        "| SciFact| [``Homepage``](https://github.com/allenai/scifact) | ``scifact``| Scientific |  Binary  |  300     |  5K    |  1.1 |  Yes |\n"
      ],
      "metadata": {
        "id": "P9LyakLeRI3k"
      }
    },
    {
      "cell_type": "code",
      "source": [
        "def download_dataset(dataset: str) -> Tuple[Dict[str, Dict[str, str]], Dict[str, Dict[str, str]]]:\n",
        "  '''\n",
        "  PURPOSE: download the dataset\n",
        "  ARGUMENTS:\n",
        "    - dataset (str): string describing the beir dataset\n",
        "  RETURN:\n",
        "    - corpus, queries (Tuple[Dict[str, Dict[str, str]], Dict[str, Dict[str, str]]]): documents, queries of the respective dataset\n",
        "  '''\n",
        "  data_path = f'datasets/{dataset}'\n",
        "  if not os.path.isdir(data_path):\n",
        "    url = f'https://public.ukp.informatik.tu-darmstadt.de/thakur/BEIR/datasets/{dataset}.zip'\n",
        "    out_dir = os.path.join(os.getcwd(), 'datasets')\n",
        "    data_path = util.download_and_unzip(url, out_dir)\n",
        "    print(f'Dataset downloaded here: {data_path}')\n",
        "  corpus, queries, _ = GenericDataLoader(data_path).load(split=\"test\")\n",
        "  return corpus, queries\n",
        "\n",
        "\n",
        "datasets = ['scifact', 'nfcorpus'] # Choosen datasets \n",
        "\n",
        "datasets_data = {}\n",
        "\n",
        "for dataset in datasets:\n",
        "  corpus, queries = download_dataset(dataset)\n",
        "  datasets_data[dataset] = {\n",
        "      'corpus': corpus,\n",
        "      'queries': queries,\n",
        "  }"
      ],
      "metadata": {
        "id": "wRgXsnycRH7Z"
      },
      "execution_count": null,
      "outputs": []
    }
  ]
}